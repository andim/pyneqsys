{
 "cells": [
  {
   "cell_type": "code",
   "execution_count": null,
   "metadata": {
    "collapsed": false,
    "scrolled": true
   },
   "outputs": [],
   "source": [
    "from __future__ import (absolute_import, division, print_function)\n",
    "from functools import reduce, partial\n",
    "from operator import mul\n",
    "import sympy as sp\n",
    "import numpy as np\n",
    "import matplotlib.pyplot as plt\n",
    "from pyneqsys.symbolic import SymbolicSys, TransformedSys, linear_exprs\n",
    "sp.init_printing()\n",
    "prod = lambda x: reduce(mul, x)\n",
    "print(sp.__version__)"
   ]
  },
  {
   "cell_type": "markdown",
   "metadata": {},
   "source": [
    "Let's consider:\n",
    "$$\n",
    "H^+ + OH^- \\leftrightharpoons H_2O \\\\\n",
    "NH_4^+ \\leftrightharpoons H^+ + NH_3\n",
    "$$"
   ]
  },
  {
   "cell_type": "code",
   "execution_count": null,
   "metadata": {
    "collapsed": true
   },
   "outputs": [],
   "source": [
    "names = 'H+ OH- NH4+ NH3 H2O'.split()\n",
    "NH3_idx = 3\n",
    "NH3_varied = np.logspace(-7, 0)\n",
    "c0 = 1e-7, 1e-7, 1e-7, 1, 55\n",
    "K = Kw, Ka = 10**-14/55, 10**-9.24"
   ]
  },
  {
   "cell_type": "code",
   "execution_count": null,
   "metadata": {
    "collapsed": false
   },
   "outputs": [],
   "source": [
    "stoichs = [[1, 1, 0, 0, -1], [1, 0, -1, 1, 0]]\n",
    "H = [1, 1, 4, 3, 2]\n",
    "N = [0, 0, 1, 1, 0]\n",
    "O = [0, 1, 0, 0, 1]\n",
    "q = [1, -1, 1, 0, 0]\n",
    "preserv = [H, N, O, q]\n",
    "def get_f(x, params, backend, lnK):\n",
    "    init_concs = params[:5]\n",
    "    eq_constants = params[5:]\n",
    "    le = linear_exprs(preserv, x, linear_exprs(preserv, init_concs), rref=True)\n",
    "    if lnK:\n",
    "        return le + [\n",
    "            sum(backend.log(xi)*p for xi, p in zip(x, coeffs)) - backend.log(K) \n",
    "            for coeffs, K in zip(stoichs, eq_constants)\n",
    "        ]\n",
    "    else:\n",
    "        return le + [\n",
    "            prod(xi**p for xi, p in zip(x, coeffs)) - K for coeffs, K in zip(stoichs, eq_constants)\n",
    "        ]"
   ]
  },
  {
   "cell_type": "code",
   "execution_count": null,
   "metadata": {
    "collapsed": false
   },
   "outputs": [],
   "source": [
    "neqsys = SymbolicSys.from_callback(partial(get_f, lnK=False), 5, 7, names=names)\n",
    "neqsys.exprs"
   ]
  },
  {
   "cell_type": "code",
   "execution_count": null,
   "metadata": {
    "collapsed": false
   },
   "outputs": [],
   "source": [
    "neqsys.get_jac()"
   ]
  },
  {
   "cell_type": "code",
   "execution_count": null,
   "metadata": {
    "collapsed": false,
    "scrolled": true
   },
   "outputs": [],
   "source": [
    "%matplotlib inline\n",
    "def solve_and_plot(nsys):\n",
    "    fig = plt.figure(figsize=(12, 4))\n",
    "    ax_out = plt.subplot(1, 2, 1, xscale='log', yscale='log')\n",
    "    ax_err = plt.subplot(1, 2, 2, xscale='log')\n",
    "    ax_err.set_yscale('symlog', linthreshy=1e-14)\n",
    "    xres, info_dicts = nsys.solve_and_plot_series(c0, c0+K, NH3_varied, NH3_idx, 'scipy', \n",
    "                                                  plot_kwargs=dict(ax=ax_out),\n",
    "                                                  plot_residuals_kwargs=dict(ax=ax_err))\n",
    "    for ax in (ax_out, ax_err):\n",
    "        ax.set_xlabel('[NH3]0 / M')\n",
    "    ax_out.set_ylabel('Concentration / M')\n",
    "    ax_out.legend(loc='best')\n",
    "    ax_err.set_ylabel('Residuals')\n",
    "    \n",
    "    avg_nfev = np.average([nfo['nfev'] for nfo in info_dicts])\n",
    "    avg_njev = np.average([nfo['njev'] for nfo in info_dicts])\n",
    "    success = np.average([int(nfo['success']) for nfo in info_dicts])\n",
    "    return {'avg_nfev': avg_nfev, 'avg_njev': avg_njev, 'success': success}\n",
    "\n",
    "    \n",
    "solve_and_plot(neqsys)"
   ]
  },
  {
   "cell_type": "markdown",
   "metadata": {},
   "source": [
    "Now let's see how pyneqsys can transform our system:"
   ]
  },
  {
   "cell_type": "code",
   "execution_count": null,
   "metadata": {
    "collapsed": false,
    "scrolled": true
   },
   "outputs": [],
   "source": [
    "tneqsys = TransformedSys.from_callback(partial(get_f, lnK=True), (sp.exp, sp.log), 5, 7)\n",
    "tneqsys.exprs"
   ]
  },
  {
   "cell_type": "code",
   "execution_count": null,
   "metadata": {
    "collapsed": false,
    "scrolled": true
   },
   "outputs": [],
   "source": [
    "c_res, info = tneqsys.solve([1]*5, np.array(c0+K))\n",
    "c0, c_res, info['success']"
   ]
  },
  {
   "cell_type": "code",
   "execution_count": null,
   "metadata": {
    "collapsed": false
   },
   "outputs": [],
   "source": [
    "solve_and_plot(tneqsys)"
   ]
  }
 ],
 "metadata": {
  "kernelspec": {
   "display_name": "Python 3",
   "language": "python",
   "name": "python3"
  },
  "language_info": {
   "codemirror_mode": {
    "name": "ipython",
    "version": 3
   },
   "file_extension": ".py",
   "mimetype": "text/x-python",
   "name": "python",
   "nbconvert_exporter": "python",
   "pygments_lexer": "ipython3",
   "version": "3.4.3"
  }
 },
 "nbformat": 4,
 "nbformat_minor": 0
}
