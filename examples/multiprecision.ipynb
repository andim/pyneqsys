{
 "cells": [
  {
   "cell_type": "markdown",
   "metadata": {},
   "source": [
    "# Arbitrary precision\n",
    "Typically numerical optimization is performed using binary 64 bit IEEE 754 floating point numbers (becuase modern processors offer good performance/precision characteristics for this data type). By using a math library which supports arbitrary precision we can achive higher precision (larger number of significant digits). By using ``pyneqsys`` we only need to write our equations once. We will be using [mpmath](http://www.mpmath.org) as our backend library for arbitrary precision. "
   ]
  },
  {
   "cell_type": "code",
   "execution_count": null,
   "metadata": {},
   "outputs": [],
   "source": [
    "import sympy as sp\n",
    "from pyneqsys.symbolic import SymbolicSys\n",
    "sp.init_printing()"
   ]
  },
  {
   "cell_type": "code",
   "execution_count": null,
   "metadata": {},
   "outputs": [],
   "source": [
    "def f(x):\n",
    "    return [x[0]**2 + x[1],\n",
    "            5*x[0]**2 - 3*x[0] + 2*x[1] - 3]\n",
    "\n",
    "neqsys = SymbolicSys.from_callback(f, 2)\n",
    "neqsys.exprs"
   ]
  },
  {
   "cell_type": "markdown",
   "metadata": {},
   "source": [
    "Let us now find the roots for this system numerically, if we read the documentation of that library we will see that they recommend that the starting guess is obtained using a conventional solver.\n",
    "\n",
    "So we will do just that: we will first solve the problem using SciPy's default solver and then we will perform a \"refinement\" by solving it using ``mpmath``'s solver"
   ]
  },
  {
   "cell_type": "code",
   "execution_count": null,
   "metadata": {},
   "outputs": [],
   "source": [
    "x, sol = neqsys.solve([100, 100])\n",
    "sol, f(sol['x'])"
   ]
  },
  {
   "cell_type": "code",
   "execution_count": null,
   "metadata": {},
   "outputs": [],
   "source": [
    "mp_neqsys = SymbolicSys.from_callback(f, 2, module='mpmath')\n",
    "mp_x, mp_sol = mp_neqsys.solve(x, solver='mpmath', dps=50)\n",
    "mp_sol, f(mp_sol['x'])"
   ]
  },
  {
   "cell_type": "markdown",
   "metadata": {},
   "source": [
    "So that gave us, as requested, close to 50 significant digits‒nifty!"
   ]
  }
 ],
 "metadata": {
  "kernelspec": {
   "display_name": "Python 3",
   "language": "python",
   "name": "python3"
  },
  "language_info": {
   "codemirror_mode": {
    "name": "ipython",
    "version": 3
   },
   "file_extension": ".py",
   "mimetype": "text/x-python",
   "name": "python",
   "nbconvert_exporter": "python",
   "pygments_lexer": "ipython3",
   "version": "3.6.1"
  }
 },
 "nbformat": 4,
 "nbformat_minor": 1
}
