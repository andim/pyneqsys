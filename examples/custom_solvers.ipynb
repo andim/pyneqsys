{
 "cells": [
  {
   "cell_type": "code",
   "execution_count": null,
   "metadata": {
    "collapsed": true
   },
   "outputs": [],
   "source": [
    "from pyneqsys.symbolic import SymbolicSys"
   ]
  },
  {
   "cell_type": "code",
   "execution_count": null,
   "metadata": {
    "collapsed": false
   },
   "outputs": [],
   "source": [
    "def f(x):\n",
    "    return [(x[0] - x[1])**3/2 + x[0] - 1,\n",
    "            (x[1] - x[0])**3/2 + x[1]]\n",
    "neqsys = SymbolicSys.from_callback(f, 2)"
   ]
  },
  {
   "cell_type": "code",
   "execution_count": null,
   "metadata": {
    "collapsed": false
   },
   "outputs": [],
   "source": [
    "neqsys.solve([1, 0])"
   ]
  },
  {
   "cell_type": "code",
   "execution_count": null,
   "metadata": {
    "collapsed": false
   },
   "outputs": [],
   "source": [
    "neqsys.solve([1, 0], solver='kinsol')"
   ]
  },
  {
   "cell_type": "code",
   "execution_count": null,
   "metadata": {
    "collapsed": false
   },
   "outputs": [],
   "source": [
    "import scipy\n",
    "version = scipy.__version__.split('.')\n",
    "major = int(version[0])\n",
    "minor = int(version[1])\n",
    "if major > 0 or minor >= 17:\n",
    "    # New solver in SciPy v0.17\n",
    "    # http://scipy.github.io/devdocs/generated/scipy.optimize.root.html#scipy.optimize.root\n",
    "    class SciPyLsq:\n",
    "        def __init__(self, neqsys):\n",
    "            self.neqsys = neqsys\n",
    "            \n",
    "        def __call__(self, x0, **kwargs):\n",
    "            new_kwargs = kwargs.copy()\n",
    "            if self.neqsys.band is not None:\n",
    "                raise ValueError(\"Not supported (see SciPy docs)\")\n",
    "            new_kwargs['args'] = (self.neqsys.internal_params,)\n",
    "            return scipy.optimize.least_squares(self.neqsys.f_callback, x0, jac=self.neqsys.j_callback, **new_kwargs)\n",
    "    result = neqsys.solve([1, 0], attached_solver=SciPyLsq)\n",
    "    print(result)"
   ]
  },
  {
   "cell_type": "code",
   "execution_count": null,
   "metadata": {
    "collapsed": false
   },
   "outputs": [],
   "source": [
    "def plot_convergence(attached_solver, plot_attr):\n",
    "    import numpy as np\n",
    "    import matplotlib.pyplot as plt\n",
    "    %matplotlib inline\n",
    "    x_history = np.array(attached_solver.history_x)\n",
    "    plt.figure(figsize=(15, 3))\n",
    "    plt.subplot(1, 4, 1)\n",
    "    plt.plot(x_history[:, 0], x_history[:, 1]); plt.xlabel('x0'), plt.ylabel('x1')\n",
    "    plt.subplot(1, 4, 2)\n",
    "    plt.plot(neqsys.rms(x_history)); plt.xlabel('iteration'), plt.ylabel('RMS(residuals)')\n",
    "    plt.subplot(1, 4, 3)\n",
    "    plt.semilogy(range(15, len(x_history)), neqsys.rms(x_history[15:])); plt.xlabel('iteration'), plt.ylabel('RMS(residuals)')\n",
    "    plt.subplot(1, 4, 4)\n",
    "    plt.plot(np.asarray(getattr(attached_solver, plot_attr)))\n",
    "    plt.ylabel(plot_attr)\n",
    "    plt.xlabel('iteration')\n",
    "    plt.tight_layout()"
   ]
  },
  {
   "cell_type": "code",
   "execution_count": null,
   "metadata": {
    "collapsed": false
   },
   "outputs": [],
   "source": [
    "from pyneqsys.solvers import LineSearchingGradientDescentSolver as LSGD\n",
    "lsgd = LSGD()\n",
    "print(neqsys.solve([.8, .1], attached_solver=lsgd))\n",
    "plot_convergence(lsgd, 'history_rms_f')"
   ]
  },
  {
   "cell_type": "code",
   "execution_count": null,
   "metadata": {
    "collapsed": false,
    "scrolled": true
   },
   "outputs": [],
   "source": [
    "from pyneqsys.solvers import PolakRibiereConjugateGradientSolver as CG\n",
    "cg = CG(4)\n",
    "print(neqsys.solve([.8, .1], attached_solver=cg))\n",
    "plot_convergence(cg, 'history_sn')"
   ]
  },
  {
   "cell_type": "code",
   "execution_count": null,
   "metadata": {
    "collapsed": false,
    "scrolled": false
   },
   "outputs": [],
   "source": [
    "from pyneqsys.solvers import AutoDampedGradientDescentSolver as ADGD\n",
    "adgd = ADGD(.15)\n",
    "print(neqsys.solve([.8, .1], attached_solver=adgd))\n",
    "plot_convergence(adgd, 'history_damping')"
   ]
  },
  {
   "cell_type": "code",
   "execution_count": null,
   "metadata": {
    "collapsed": true
   },
   "outputs": [],
   "source": []
  }
 ],
 "metadata": {
  "kernelspec": {
   "display_name": "Python 3",
   "language": "python",
   "name": "python3"
  },
  "language_info": {
   "codemirror_mode": {
    "name": "ipython",
    "version": 3
   },
   "file_extension": ".py",
   "mimetype": "text/x-python",
   "name": "python",
   "nbconvert_exporter": "python",
   "pygments_lexer": "ipython3",
   "version": "3.4.3"
  }
 },
 "nbformat": 4,
 "nbformat_minor": 0
}
