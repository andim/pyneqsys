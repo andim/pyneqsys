{
 "cells": [
  {
   "cell_type": "markdown",
   "metadata": {},
   "source": [
    "An arbitrary two dimensinoal non-linear problem (taken from http://stackoverflow.com/questions/33135238/how-to-solve-this-system-of-two-equations-in-sympy)"
   ]
  },
  {
   "cell_type": "code",
   "execution_count": null,
   "metadata": {
    "collapsed": false
   },
   "outputs": [],
   "source": [
    "%matplotlib inline\n",
    "import sympy as sp\n",
    "sp.init_printing()\n",
    "import numpy as np\n",
    "import matplotlib.pyplot as plt\n",
    "from pyneqsys.symbolic import SymbolicSys\n",
    "def f(y, params):\n",
    "    eq = lambda x, fx: 1/(x+y[0])**params[0] + y[1] - fx\n",
    "    return [eq(0, 1), eq(1, 0)]\n",
    "neqsys = SymbolicSys.from_callback(f, 2, 1)\n",
    "neqsys.names = 'a b'.split()\n",
    "neqsys.exprs"
   ]
  },
  {
   "cell_type": "code",
   "execution_count": null,
   "metadata": {
    "collapsed": false
   },
   "outputs": [],
   "source": [
    "params = 1\n",
    "ab, sol = neqsys.solve('scipy', [0.5, -0.5], params)\n",
    "ab, sol.success"
   ]
  },
  {
   "cell_type": "code",
   "execution_count": null,
   "metadata": {
    "collapsed": false
   },
   "outputs": [],
   "source": [
    "varied_data = np.linspace(.5, 3)\n",
    "parameter_id = 0\n",
    "xres, sols = neqsys.solve_series('scipy', [.5, -.5], params, varied_data, parameter_id)"
   ]
  },
  {
   "cell_type": "code",
   "execution_count": null,
   "metadata": {
    "collapsed": false
   },
   "outputs": [],
   "source": [
    "neqsys.plot_series(xres, varied_data)\n",
    "plt.legend()\n",
    "fig = plt.gcf()"
   ]
  },
  {
   "cell_type": "markdown",
   "metadata": {},
   "source": [
    "If we want the plot to be interactive we may use bokeh:"
   ]
  },
  {
   "cell_type": "code",
   "execution_count": null,
   "metadata": {
    "collapsed": false,
    "scrolled": true
   },
   "outputs": [],
   "source": [
    "try:\n",
    "    from bokeh.plotting import figure, output_notebook, show\n",
    "    from bokeh.mpl import to_bokeh\n",
    "    output_notebook()\n",
    "    show(to_bokeh(fig))\n",
    "except ImportError:\n",
    "    print('bokeh not installed')"
   ]
  },
  {
   "cell_type": "markdown",
   "metadata": {},
   "source": [
    "That was easy, let's use this system of equations to explore different algortihms.\n",
    "\n",
    "# Custom solvers\n",
    "We can also use a custom solver, there are examples of simple (not production quality) solvers in ``pyneqsys.solvers``"
   ]
  },
  {
   "cell_type": "code",
   "execution_count": null,
   "metadata": {
    "collapsed": false
   },
   "outputs": [],
   "source": [
    "def solve_custom(solver, plot_attr=None):\n",
    "    ncols = 3 if plot_attr is None else 4\n",
    "    ab, sol = neqsys.solve(solver, [0.5, -0.5], [1], tol=1e-5)\n",
    "    x_history = np.array(sol['solver_cb'].history_x)\n",
    "    plt.figure(figsize=(15, 3))\n",
    "    plt.subplot(1, ncols, 1)\n",
    "    plt.plot(x_history[:, 0], x_history[:, 1]); plt.xlabel('x0'), plt.ylabel('x1')\n",
    "    plt.subplot(1, ncols, 2)\n",
    "    plt.plot(neqsys.rms(x_history, [1])); plt.xlabel('iteration'), plt.ylabel('RMS(residuals)')\n",
    "    plt.subplot(1, ncols, 3)\n",
    "    plt.semilogy(range(15, len(x_history)), neqsys.rms(x_history[15:], [1])); plt.xlabel('iteration'), plt.ylabel('RMS(residuals)')\n",
    "    if plot_attr is not None:\n",
    "        plt.subplot(1, ncols, 4)\n",
    "        plt.plot(getattr(solver, plot_attr))\n",
    "        plt.ylabel(plot_attr)\n",
    "        plt.xlabel('iteration')\n",
    "    plt.tight_layout()"
   ]
  },
  {
   "cell_type": "markdown",
   "metadata": {},
   "source": [
    "Let's start with Gradient descent"
   ]
  },
  {
   "cell_type": "code",
   "execution_count": null,
   "metadata": {
    "collapsed": false,
    "scrolled": true
   },
   "outputs": [],
   "source": [
    "from pyneqsys.solvers import DampedGradientDescentSolver\n",
    "solve_custom(DampedGradientDescentSolver(1, 0))  # Undamped"
   ]
  },
  {
   "cell_type": "markdown",
   "metadata": {},
   "source": [
    "That didn't go too well, the name of the class may give a hint of a possible solution. Let's damp the steps:"
   ]
  },
  {
   "cell_type": "code",
   "execution_count": null,
   "metadata": {
    "collapsed": false,
    "scrolled": false
   },
   "outputs": [],
   "source": [
    "solve_custom(DampedGradientDescentSolver(.5, .5))  # (under-)damped"
   ]
  },
  {
   "cell_type": "code",
   "execution_count": null,
   "metadata": {
    "collapsed": false
   },
   "outputs": [],
   "source": [
    "solve_custom(DampedGradientDescentSolver(.05, .05))  # over-damped"
   ]
  },
  {
   "cell_type": "code",
   "execution_count": null,
   "metadata": {
    "collapsed": false,
    "scrolled": true
   },
   "outputs": [],
   "source": [
    "solve_custom(DampedGradientDescentSolver(.3, .1))   # (close to) optimally  damped"
   ]
  },
  {
   "cell_type": "markdown",
   "metadata": {
    "collapsed": true
   },
   "source": [
    "So we should strive to limit the osciallatory behaviour, let's see if we can achieve that algorithmically:"
   ]
  },
  {
   "cell_type": "code",
   "execution_count": null,
   "metadata": {
    "collapsed": false
   },
   "outputs": [],
   "source": [
    "from pyneqsys.solvers import AutoDampedGradientDescentSolver\n",
    "solve_custom(AutoDampedGradientDescentSolver(.1, .1, 8, .3), 'history_damping')"
   ]
  },
  {
   "cell_type": "code",
   "execution_count": null,
   "metadata": {
    "collapsed": false
   },
   "outputs": [],
   "source": [
    "solve_custom(AutoDampedGradientDescentSolver(.1, .1, 6, .3), 'history_damping')"
   ]
  },
  {
   "cell_type": "code",
   "execution_count": null,
   "metadata": {
    "collapsed": false
   },
   "outputs": [],
   "source": [
    "solve_custom(AutoDampedGradientDescentSolver(.1, .1, 4, .3), 'history_damping')"
   ]
  },
  {
   "cell_type": "code",
   "execution_count": null,
   "metadata": {
    "collapsed": false
   },
   "outputs": [],
   "source": [
    "solve_custom(AutoDampedGradientDescentSolver(.1, .1, 2, .3), 'history_damping')"
   ]
  },
  {
   "cell_type": "code",
   "execution_count": null,
   "metadata": {
    "collapsed": true
   },
   "outputs": [],
   "source": []
  }
 ],
 "metadata": {
  "kernelspec": {
   "display_name": "Python 2",
   "language": "python",
   "name": "python2"
  },
  "language_info": {
   "codemirror_mode": {
    "name": "ipython",
    "version": 2
   },
   "file_extension": ".py",
   "mimetype": "text/x-python",
   "name": "python",
   "nbconvert_exporter": "python",
   "pygments_lexer": "ipython2",
   "version": "2.7.6"
  }
 },
 "nbformat": 4,
 "nbformat_minor": 0
}
