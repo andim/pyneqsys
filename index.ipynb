{
 "cells": [
  {
   "cell_type": "markdown",
   "metadata": {},
   "source": [
    "<h1 style=\"text-align:center;\">Example notebooks for pyneqsys</h1>\n",
    "\n",
    "This is a collection of demonstration notebooks for pyneqsys. The pyneqsys package contains classes and functions for working with systems of nonlinear equations. Systems of non-linear equations can most often not be solved anayltically, but instead one have to use numerical methods to find solutions.\n",
    "\n",
    "You can view these notebooks online with [Binder](https://mybinder.org/v2/gh/bjodah/pyneqsys/master?filepath=index.ipynb). \n",
    "\n",
    "## Example notebooks\n",
    "\n",
    "- [Parameter variation](examples/varied_param.ipynb)\n",
    "- [Arbitrary precision](examples/multiprecision.ipynb)\n",
    "- [Row-reduce and variable transformations in non-linear equation systems, an applied example: Chemical equilibria](examples/chem_equil_ammonia.ipynb)\n",
    "- [Conditional expressions](examples/conditional.ipynb)\n",
    "- [Implementing custom solvers](examples/custom_solvers.ipynb)"
   ]
  }
 ],
 "metadata": {
  "anaconda-cloud": {},
  "kernelspec": {
   "display_name": "Python 3",
   "language": "python",
   "name": "python3"
  },
  "language_info": {
   "codemirror_mode": {
    "name": "ipython",
    "version": 3
   },
   "file_extension": ".py",
   "mimetype": "text/x-python",
   "name": "python",
   "nbconvert_exporter": "python",
   "pygments_lexer": "ipython3",
   "version": "3.6.1"
  }
 },
 "nbformat": 4,
 "nbformat_minor": 2
}
