{
 "cells": [
  {
   "cell_type": "code",
   "execution_count": null,
   "metadata": {
    "collapsed": false
   },
   "outputs": [],
   "source": [
    "from __future__ import (absolute_import, division, print_function)\n",
    "from functools import reduce\n",
    "from operator import mul\n",
    "import sympy as sp\n",
    "import numpy as np\n",
    "import matplotlib.pyplot as plt\n",
    "from pyneqsys.symbolic import SymbolicSys, linear_exprs\n",
    "sp.init_printing()\n",
    "prod = lambda x: reduce(mul, x)\n",
    "names = 'Na+ Cl- NaCl'.split()\n",
    "sp.__version__"
   ]
  },
  {
   "cell_type": "markdown",
   "metadata": {},
   "source": [
    "Let's consider precipitation/dissolution of NaCl:\n",
    "$$\n",
    "NaCl(s) \\leftrightharpoons Na^+(aq) + Cl^-(aq)\n",
    "$$"
   ]
  },
  {
   "cell_type": "code",
   "execution_count": null,
   "metadata": {
    "collapsed": false
   },
   "outputs": [],
   "source": [
    "init_concs = iNa_p, iCl_m, iNaCl = [sp.Symbol('i_'+str(i), real=True, negative=False) for i in range(3)]\n",
    "c = Na_p, Cl_m, NaCl = [sp.Symbol('c_'+str(i), real=True, negative=False) for i in range(3)]\n",
    "stoichs = [[1, 1, -1]]\n",
    "Na = [1, 0, 1]\n",
    "Cl = [0, 1, 1]\n",
    "e = [1, -1, 0]\n",
    "preserv = [Na, Cl, e]\n",
    "eq_constants = [Ksp] = [sp.Symbol('Ksp', real=True, positive=True)]\n",
    "\n",
    "def get_f(x, params, solid):\n",
    "    init_concs = params[:3] if solid else params[:2]\n",
    "    eq_constants = params[3:]\n",
    "    le = linear_exprs(preserv, x[:3] if solid else x[:2], linear_exprs(preserv, init_concs), rref=True)\n",
    "    return le + ([Na_p*Cl_m - Ksp] if solid else [NaCl])"
   ]
  },
  {
   "cell_type": "code",
   "execution_count": null,
   "metadata": {
    "collapsed": false
   },
   "outputs": [],
   "source": [
    "f_true = get_f(c, init_concs + eq_constants, True)\n",
    "f_false = get_f(c, init_concs + eq_constants, False)\n",
    "f_true, f_false"
   ]
  },
  {
   "cell_type": "code",
   "execution_count": null,
   "metadata": {
    "collapsed": false
   },
   "outputs": [],
   "source": [
    "from pyneqsys.core import ConditionalNeqSys\n",
    "cneqsys = ConditionalNeqSys([\n",
    "            (lambda x, p: (x[0] + x[2]) * (x[1] + x[2]) > p[3],\n",
    "             lambda x, p: x[2] >= 0)\n",
    "        ],\n",
    "        lambda conds: SymbolicSys(c, f_true if conds[0] else f_false,\n",
    "                                  init_concs+eq_constants))"
   ]
  },
  {
   "cell_type": "code",
   "execution_count": null,
   "metadata": {
    "collapsed": true
   },
   "outputs": [],
   "source": [
    "c0, K = [0.5, 0.5, 0], [1]\n",
    "params = c0 + K"
   ]
  },
  {
   "cell_type": "code",
   "execution_count": null,
   "metadata": {
    "collapsed": false,
    "scrolled": true
   },
   "outputs": [],
   "source": [
    "cneqsys.solve([0.5, 0.5, 0], params)"
   ]
  },
  {
   "cell_type": "code",
   "execution_count": null,
   "metadata": {
    "collapsed": false
   },
   "outputs": [],
   "source": [
    "cneqsys.solve([0.5, 0.5, 0], params)"
   ]
  },
  {
   "cell_type": "code",
   "execution_count": null,
   "metadata": {
    "collapsed": false
   },
   "outputs": [],
   "source": [
    "%matplotlib inline\n",
    "ax_out = plt.subplot(1, 2, 1)\n",
    "ax_err = plt.subplot(1, 2, 2)\n",
    "xres, sols = cneqsys.solve_and_plot_series(\n",
    "    c0, params, np.linspace(0, 3), 0, 'kinsol',\n",
    "    {'ax': ax_out}, {'ax': ax_err}, fnormtol=1e-14)"
   ]
  }
 ],
 "metadata": {
  "kernelspec": {
   "display_name": "Python 3",
   "language": "python",
   "name": "python3"
  },
  "language_info": {
   "codemirror_mode": {
    "name": "ipython",
    "version": 3
   },
   "file_extension": ".py",
   "mimetype": "text/x-python",
   "name": "python",
   "nbconvert_exporter": "python",
   "pygments_lexer": "ipython3",
   "version": "3.4.3"
  }
 },
 "nbformat": 4,
 "nbformat_minor": 0
}
