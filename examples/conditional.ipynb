{
 "cells": [
  {
   "cell_type": "code",
   "execution_count": null,
   "metadata": {
    "collapsed": true
   },
   "outputs": [],
   "source": [
    "from __future__ import (absolute_import, division, print_function)\n",
    "from functools import reduce\n",
    "from operator import mul\n",
    "import sympy as sp\n",
    "import numpy as np\n",
    "import matplotlib.pyplot as plt\n",
    "from pyneqsys.symbolic import TransformedSys, linear_exprs\n",
    "sp.init_printing()\n",
    "prod = lambda x: reduce(mul, x)\n",
    "names = 'Na+ Cl- NaCl'.split()"
   ]
  },
  {
   "cell_type": "code",
   "execution_count": null,
   "metadata": {
    "collapsed": false
   },
   "outputs": [],
   "source": [
    "iNa_p, iCl_m, iNaCl = init_concs = [sp.Symbol('i_'+str(i), real=True, positive=True) for i in range(3)]\n",
    "c = Na_p, Cl_m, NaCl = [sp.Symbol('c_'+str(i), real=True, positive=True) for i in range(3)]\n",
    "stoichs = [[1, 1, -1]]\n",
    "Na = [1, 0, 1]\n",
    "Cl = [0, 1, 1]\n",
    "e = [1, -1, 0]\n",
    "preserv = [Na, Cl, e]\n",
    "eq_constants = [Ksp] = [sp.Symbol('Ksp', real=True, positive=True)]\n",
    "\n",
    "def get_f(x, params, solid):\n",
    "    init_concs = params[:3] if solid else params[:2]\n",
    "    eq_constants = params[3:]\n",
    "    le = linear_exprs(preserv, x[:3] if solid else x[:2], linear_exprs(preserv, init_concs), rref=True)\n",
    "    return le + ([sp.Eq(Na_p*Cl_m, Ksp)] if solid else [])\n",
    "\n",
    "# If this happens: (trigger forward)\n",
    "c[0]*c[1] > Ksp"
   ]
  },
  {
   "cell_type": "code",
   "execution_count": null,
   "metadata": {
    "collapsed": false
   },
   "outputs": [],
   "source": [
    "get_f(c, init_concs + eq_constants, True)"
   ]
  },
  {
   "cell_type": "code",
   "execution_count": null,
   "metadata": {
    "collapsed": false
   },
   "outputs": [],
   "source": [
    "# If this happens: (trigger backward)\n",
    "c[2] < 1e-15"
   ]
  },
  {
   "cell_type": "code",
   "execution_count": null,
   "metadata": {
    "collapsed": false
   },
   "outputs": [],
   "source": [
    "get_f(c, init_concs + eq_constants, False)"
   ]
  },
  {
   "cell_type": "code",
   "execution_count": null,
   "metadata": {
    "collapsed": true
   },
   "outputs": [],
   "source": []
  }
 ],
 "metadata": {
  "kernelspec": {
   "display_name": "Python 2",
   "language": "python",
   "name": "python2"
  },
  "language_info": {
   "codemirror_mode": {
    "name": "ipython",
    "version": 2
   },
   "file_extension": ".py",
   "mimetype": "text/x-python",
   "name": "python",
   "nbconvert_exporter": "python",
   "pygments_lexer": "ipython2",
   "version": "2.7.6"
  }
 },
 "nbformat": 4,
 "nbformat_minor": 0
}
