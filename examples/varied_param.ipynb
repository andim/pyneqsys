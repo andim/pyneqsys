{
 "cells": [
  {
   "cell_type": "markdown",
   "metadata": {},
   "source": [
    "# Parameter variation\n",
    "In this notebook we will look at how ``pyneqsys`` can solve a system of non-linear equations for different values of a parameter (``pyneqsys`` will use the preceeding solution as starting guess in the consecutive solves)."
   ]
  },
  {
   "cell_type": "code",
   "execution_count": null,
   "metadata": {},
   "outputs": [],
   "source": [
    "%matplotlib inline\n",
    "import sympy as sp\n",
    "sp.init_printing()\n",
    "import numpy as np\n",
    "import matplotlib.pyplot as plt\n",
    "from pyneqsys.symbolic import SymbolicSys"
   ]
  },
  {
   "cell_type": "markdown",
   "metadata": {},
   "source": [
    "The equations form a two dimensinoal non-linear problem (the problem is originally from [here](http://stackoverflow.com/questions/33135238/how-to-solve-this-system-of-two-equations-in-sympy))"
   ]
  },
  {
   "cell_type": "code",
   "execution_count": null,
   "metadata": {},
   "outputs": [],
   "source": [
    "def f(x, params):\n",
    "    eq = lambda y, fy: 1/(y+x['a'])**params['p'] + x['b'] - fy\n",
    "    return [eq(0, 1), eq(1, 0)]\n",
    "neqsys = SymbolicSys.from_callback(f, 2, 1, names='a b'.split(), param_names='p', x_by_name=True, par_by_name=True)\n",
    "neqsys.exprs"
   ]
  },
  {
   "cell_type": "code",
   "execution_count": null,
   "metadata": {},
   "outputs": [],
   "source": [
    "x0, params = dict(a=0.5, b=-0.5), dict(p=1)\n",
    "ab, info = neqsys.solve(x0, params)\n",
    "ab, info"
   ]
  },
  {
   "cell_type": "code",
   "execution_count": null,
   "metadata": {},
   "outputs": [],
   "source": [
    "print('Residuals: %s'  % f(dict(zip(neqsys.names, ab)), params))"
   ]
  },
  {
   "cell_type": "code",
   "execution_count": null,
   "metadata": {},
   "outputs": [],
   "source": [
    "varied_data = np.linspace(.5, 3)\n",
    "xres, sols = neqsys.solve_series(x0, params, varied_data, 'p')"
   ]
  },
  {
   "cell_type": "code",
   "execution_count": null,
   "metadata": {},
   "outputs": [],
   "source": [
    "neqsys.plot_series(xres, varied_data, 'p')\n",
    "plt.legend()\n",
    "fig = plt.gcf()"
   ]
  },
  {
   "cell_type": "markdown",
   "metadata": {},
   "source": [
    "That was easy, let's use this system of equations to explore different algortihms.\n",
    "\n",
    "# Custom solvers\n",
    "We can also use a custom solver, there are examples of simple (not production quality) solvers in ``pyneqsys.solvers``. But they can be useful for exploring robustness of different classes of solvers for a given problem."
   ]
  },
  {
   "cell_type": "code",
   "execution_count": null,
   "metadata": {},
   "outputs": [],
   "source": [
    "def solve_custom(solver, plot_attr=None, **kwargs):\n",
    "    ncols = 3 if plot_attr is None else 4\n",
    "    ab, sol = neqsys.solve(x0, params, attached_solver=solver, ftol=1e-5, **kwargs)\n",
    "    x_history = np.array(solver.history_x)\n",
    "    plt.figure(figsize=(15, 3))\n",
    "    plt.subplot(1, ncols, 1)\n",
    "    plt.plot(x_history[:, 0], x_history[:, 1]); plt.xlabel('x0'), plt.ylabel('x1')\n",
    "    plt.subplot(1, ncols, 2)\n",
    "    plt.plot(neqsys.rms(x_history, [1])); plt.xlabel('iteration'), plt.ylabel('RMS(residuals)')\n",
    "    plt.subplot(1, ncols, 3)\n",
    "    plt.semilogy(range(15, len(x_history)), neqsys.rms(x_history[15:], [1]))\n",
    "    plt.xlabel('iteration'); plt.ylabel('RMS(residuals)')\n",
    "    if plot_attr is not None:\n",
    "        plt.subplot(1, ncols, 4)\n",
    "        plt.plot(np.asarray(getattr(solver, plot_attr)))\n",
    "        plt.ylabel(plot_attr)\n",
    "        plt.xlabel('iteration')\n",
    "    plt.tight_layout()\n",
    "    return sol"
   ]
  },
  {
   "cell_type": "markdown",
   "metadata": {},
   "source": [
    "Let's start with Gradient descent"
   ]
  },
  {
   "cell_type": "code",
   "execution_count": null,
   "metadata": {},
   "outputs": [],
   "source": [
    "from pyneqsys.solvers import DampedGradientDescentSolver\n",
    "solve_custom(DampedGradientDescentSolver(1, 0))  # Undamped"
   ]
  },
  {
   "cell_type": "markdown",
   "metadata": {},
   "source": [
    "That didn't go too well, the name of the class may give a hint of a possible solution. Let's damp the steps:"
   ]
  },
  {
   "cell_type": "code",
   "execution_count": null,
   "metadata": {},
   "outputs": [],
   "source": [
    "solve_custom(DampedGradientDescentSolver(.5, .5))  # (under-)damped"
   ]
  },
  {
   "cell_type": "code",
   "execution_count": null,
   "metadata": {},
   "outputs": [],
   "source": [
    "solve_custom(DampedGradientDescentSolver(.05, .05))  # over-damped"
   ]
  },
  {
   "cell_type": "code",
   "execution_count": null,
   "metadata": {},
   "outputs": [],
   "source": [
    "solve_custom(DampedGradientDescentSolver(.3, .1))   # (close to) optimally  damped"
   ]
  },
  {
   "cell_type": "markdown",
   "metadata": {
    "collapsed": true
   },
   "source": [
    "So we should strive to limit the osciallatory behaviour, let's see if we can achieve that algorithmically:"
   ]
  },
  {
   "cell_type": "code",
   "execution_count": null,
   "metadata": {},
   "outputs": [],
   "source": [
    "from pyneqsys.solvers import AutoDampedGradientDescentSolver\n",
    "solve_custom(AutoDampedGradientDescentSolver(.1, .1, 8, .3), 'history_damping')"
   ]
  },
  {
   "cell_type": "code",
   "execution_count": null,
   "metadata": {},
   "outputs": [],
   "source": [
    "solve_custom(AutoDampedGradientDescentSolver(.1, .1, 6, .3), 'history_damping')"
   ]
  },
  {
   "cell_type": "code",
   "execution_count": null,
   "metadata": {},
   "outputs": [],
   "source": [
    "solve_custom(AutoDampedGradientDescentSolver(.1, .1, 4, .3), 'history_damping')"
   ]
  },
  {
   "cell_type": "code",
   "execution_count": null,
   "metadata": {},
   "outputs": [],
   "source": [
    "solve_custom(AutoDampedGradientDescentSolver(.1, .1, 2, .3), 'history_damping')"
   ]
  },
  {
   "cell_type": "markdown",
   "metadata": {
    "collapsed": true
   },
   "source": [
    "Another way to overcome the criss-cross behaviour of gradient descent is to use a generalized conjugate gradient solver, let's see how such a solver performs (note that there are a lot of function calls in the line searches)."
   ]
  },
  {
   "cell_type": "code",
   "execution_count": null,
   "metadata": {},
   "outputs": [],
   "source": [
    "from pyneqsys.solvers import PolakRibiereConjugateGradientSolver as PRCG\n",
    "solve_custom(PRCG(5), 'history_sn', maxiter=50)"
   ]
  },
  {
   "cell_type": "markdown",
   "metadata": {},
   "source": [
    "So our CG solver did quite well (even though its overall cost is higher due to the line searches and our expceptionally small Jacobian matrix)."
   ]
  }
 ],
 "metadata": {
  "kernelspec": {
   "display_name": "Python 3",
   "language": "python",
   "name": "python3"
  },
  "language_info": {
   "codemirror_mode": {
    "name": "ipython",
    "version": 3
   },
   "file_extension": ".py",
   "mimetype": "text/x-python",
   "name": "python",
   "nbconvert_exporter": "python",
   "pygments_lexer": "ipython3",
   "version": "3.6.1"
  }
 },
 "nbformat": 4,
 "nbformat_minor": 1
}
