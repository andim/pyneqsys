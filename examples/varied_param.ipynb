{
 "cells": [
  {
   "cell_type": "markdown",
   "metadata": {},
   "source": [
    "Example from http://stackoverflow.com/questions/33135238/how-to-solve-this-system-of-two-equations-in-sympy"
   ]
  },
  {
   "cell_type": "code",
   "execution_count": null,
   "metadata": {
    "collapsed": false
   },
   "outputs": [],
   "source": [
    "%matplotlib inline\n",
    "import sympy as sp\n",
    "sp.init_printing()\n",
    "import numpy as np\n",
    "import matplotlib.pyplot as plt\n",
    "from pyneqsys.symbolic import SymbolicSys\n",
    "def f(y, params):\n",
    "    eq = lambda x, fx: 1/(x+y[0])**params[0] + y[1] - fx\n",
    "    return [eq(0, 1), eq(1, 0)]\n",
    "neqsys = SymbolicSys.from_callback(f, 2, 1)\n",
    "neqsys.names = 'a b'.split()\n",
    "neqsys.exprs"
   ]
  },
  {
   "cell_type": "code",
   "execution_count": null,
   "metadata": {
    "collapsed": false
   },
   "outputs": [],
   "source": [
    "ab, sol = neqsys.solve_scipy([0.5, -0.5], 1)\n",
    "ab, sol.success"
   ]
  },
  {
   "cell_type": "code",
   "execution_count": null,
   "metadata": {
    "collapsed": false
   },
   "outputs": [],
   "source": [
    "varied_data = np.linspace(.5, 3)\n",
    "xres, sols = neqsys.solve_series('scipy', [.5, -.5], 0, varied_data, 0)"
   ]
  },
  {
   "cell_type": "code",
   "execution_count": null,
   "metadata": {
    "collapsed": false
   },
   "outputs": [],
   "source": [
    "neqsys.plot_series(0, varied_data, xres)\n",
    "fig = plt.gcf()"
   ]
  },
  {
   "cell_type": "code",
   "execution_count": null,
   "metadata": {
    "collapsed": false,
    "scrolled": true
   },
   "outputs": [],
   "source": [
    "try:\n",
    "    from bokeh.plotting import figure, output_notebook, show\n",
    "    from bokeh.mpl import to_bokeh\n",
    "    output_notebook()\n",
    "    show(to_bokeh(fig))\n",
    "except ImportError:\n",
    "    print('bokeh not installed')"
   ]
  }
 ],
 "metadata": {
  "kernelspec": {
   "display_name": "Python 2",
   "language": "python",
   "name": "python2"
  },
  "language_info": {
   "codemirror_mode": {
    "name": "ipython",
    "version": 2
   },
   "file_extension": ".py",
   "mimetype": "text/x-python",
   "name": "python",
   "nbconvert_exporter": "python",
   "pygments_lexer": "ipython2",
   "version": "2.7.6"
  }
 },
 "nbformat": 4,
 "nbformat_minor": 0
}
