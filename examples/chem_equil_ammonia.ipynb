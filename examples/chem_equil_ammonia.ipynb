{
 "cells": [
  {
   "cell_type": "code",
   "execution_count": null,
   "metadata": {
    "collapsed": false
   },
   "outputs": [],
   "source": [
    "from __future__ import (absolute_import, division, print_function)\n",
    "from functools import reduce\n",
    "from operator import mul\n",
    "import sympy as sp\n",
    "import numpy as np\n",
    "from pyneqsys.symbolic import TransformedSys, linear_exprs\n",
    "sp.init_printing()\n",
    "prod = lambda x: reduce(mul, x)"
   ]
  },
  {
   "cell_type": "code",
   "execution_count": null,
   "metadata": {
    "collapsed": false
   },
   "outputs": [],
   "source": [
    "iHp, iOHm, iNH4p, iNH3, iH2O = init_concs = [sp.Symbol('i_'+str(i), real=True, positive=True) for i in range(5)]\n",
    "c = Hp, OHm, NH4p, NH3, H2O = [sp.Symbol('c_'+str(i), real=True, positive=True) for i in range(5)]\n",
    "stoichs = [[1, 1, 0, 0, -1], [1, 0, -1, 1, 0]]\n",
    "H = [1, 1, 4, 3, 2]\n",
    "N = [0, 0, 1, 1, 0]\n",
    "O = [0, 1, 0, 0, 1]\n",
    "e = [1, -1, 1, 0, 0]\n",
    "preserv = [H, N, O, e]\n",
    "eq_constants = Kw, Ka = [sp.Symbol(K, real=True, positive=True) for K in 'K_w K_a'.split()] \n",
    "def get_f(x):\n",
    "    le = linear_exprs(preserv, x, linear_exprs(preserv, init_concs), rref=True)\n",
    "    return le + [\n",
    "        sp.Eq(prod(xi**p for xi, p in zip(x, coeffs)), K) for coeffs, K in zip(stoichs, eq_constants)\n",
    "    ]\n",
    "get_f(c)"
   ]
  },
  {
   "cell_type": "code",
   "execution_count": null,
   "metadata": {
    "collapsed": true
   },
   "outputs": [],
   "source": [
    "def my_log_transform(expr):\n",
    "    if isinstance(expr, sp.Eq):\n",
    "        return sp.expand_log(sp.log(expr.lhs), force=True) - sp.expand_log(sp.log(expr.rhs), force=True)\n",
    "    else:\n",
    "        return expr"
   ]
  },
  {
   "cell_type": "code",
   "execution_count": null,
   "metadata": {
    "collapsed": false
   },
   "outputs": [],
   "source": [
    "tf = [my_log_transform(expr) for expr in get_f(c)]\n",
    "tf"
   ]
  },
  {
   "cell_type": "code",
   "execution_count": null,
   "metadata": {
    "collapsed": false
   },
   "outputs": [],
   "source": [
    "subs_fw = [(ci, sp.exp(ci)) for ci in c]\n",
    "subs_bw = [(ci, sp.log(ci)) for ci in c]\n",
    "ttf = [expr.subs(subs_fw) for expr in tf]\n",
    "ttf"
   ]
  },
  {
   "cell_type": "markdown",
   "metadata": {},
   "source": [
    "Now let's see how symneqsys can do this for us:"
   ]
  },
  {
   "cell_type": "code",
   "execution_count": null,
   "metadata": {
    "collapsed": false
   },
   "outputs": [],
   "source": [
    "neqsys = TransformedSys.from_callback(get_f, 5, my_log_transform, (sp.exp, sp.log), params=init_concs+eq_constants)\n",
    "neqsys.exprs"
   ]
  },
  {
   "cell_type": "code",
   "execution_count": null,
   "metadata": {
    "collapsed": false
   },
   "outputs": [],
   "source": [
    "#  Hp, OHm, NH4p, NH3, H2O\n",
    "c0 = 1e-7, 1e-7, 1e-7, 1, 55\n",
    "K = Kw, Ka = 10**-14/55, 10**-9.24\n",
    "c_res, sol = neqsys.solve_scipy(c0, c0+K)\n",
    "c_res, sol.success"
   ]
  }
 ],
 "metadata": {
  "kernelspec": {
   "display_name": "Python 2",
   "language": "python",
   "name": "python2"
  },
  "language_info": {
   "codemirror_mode": {
    "name": "ipython",
    "version": 2
   },
   "file_extension": ".py",
   "mimetype": "text/x-python",
   "name": "python",
   "nbconvert_exporter": "python",
   "pygments_lexer": "ipython2",
   "version": "2.7.6"
  }
 },
 "nbformat": 4,
 "nbformat_minor": 0
}
