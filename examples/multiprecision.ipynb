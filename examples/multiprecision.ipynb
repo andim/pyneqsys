{
 "cells": [
  {
   "cell_type": "code",
   "execution_count": null,
   "metadata": {
    "collapsed": false
   },
   "outputs": [],
   "source": [
    "from pyneqsys.symbolic import SymbolicSys\n",
    "def f(x):\n",
    "    return [x[0]**2 + x[1],\n",
    "            5*x[0]**2 - 3*x[0] + 2*x[1] - 3]\n",
    "neqsys = SymbolicSys.from_callback(f, 2)\n",
    "x, sol = neqsys.solve([10, 10], solver='mpmath')\n",
    "x, f(x), sol"
   ]
  },
  {
   "cell_type": "code",
   "execution_count": null,
   "metadata": {
    "collapsed": false
   },
   "outputs": [],
   "source": [
    "x, sol = neqsys.solve([100, 100], solver='mpmath')\n",
    "x, f(x), sol"
   ]
  },
  {
   "cell_type": "code",
   "execution_count": null,
   "metadata": {
    "collapsed": false
   },
   "outputs": [],
   "source": [
    "x, sol = neqsys.solve([100, 100], solver='mpmath', maxsteps=20)\n",
    "x, f(x), sol"
   ]
  },
  {
   "cell_type": "code",
   "execution_count": null,
   "metadata": {
    "collapsed": false
   },
   "outputs": [],
   "source": [
    "x, sol = neqsys.solve([100, 100], solver='scipy')\n",
    "x, f(x), sol"
   ]
  },
  {
   "cell_type": "code",
   "execution_count": null,
   "metadata": {
    "collapsed": false
   },
   "outputs": [],
   "source": [
    "def scipy_mpmath(x0, **kwargs):\n",
    "    return neqsys.solve(tuple(neqsys.solve(x0, solver='scipy')[0]), solver='mpmath', **kwargs)"
   ]
  },
  {
   "cell_type": "code",
   "execution_count": null,
   "metadata": {
    "collapsed": false
   },
   "outputs": [],
   "source": [
    "x, result = scipy_mpmath([100, 100], dps=90)\n",
    "result['nit'], f(x)"
   ]
  }
 ],
 "metadata": {
  "kernelspec": {
   "display_name": "Python 3",
   "language": "python",
   "name": "python3"
  },
  "language_info": {
   "codemirror_mode": {
    "name": "ipython",
    "version": 3
   },
   "file_extension": ".py",
   "mimetype": "text/x-python",
   "name": "python",
   "nbconvert_exporter": "python",
   "pygments_lexer": "ipython3",
   "version": "3.4.3"
  }
 },
 "nbformat": 4,
 "nbformat_minor": 0
}
