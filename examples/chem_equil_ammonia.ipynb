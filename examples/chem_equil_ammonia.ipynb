{
 "cells": [
  {
   "cell_type": "code",
   "execution_count": null,
   "metadata": {
    "collapsed": false,
    "scrolled": true
   },
   "outputs": [],
   "source": [
    "from __future__ import (absolute_import, division, print_function)\n",
    "from functools import reduce\n",
    "from operator import mul\n",
    "import sympy as sp\n",
    "import numpy as np\n",
    "import matplotlib.pyplot as plt\n",
    "from pyneqsys.symbolic import SymbolicSys, TransformedSys, linear_exprs\n",
    "sp.init_printing()\n",
    "prod = lambda x: reduce(mul, x)\n",
    "print(sp.__version__)"
   ]
  },
  {
   "cell_type": "markdown",
   "metadata": {},
   "source": [
    "Let's consider:\n",
    "$$\n",
    "H^+ + OH^- \\leftrightharpoons H_2O \\\\\n",
    "NH_4^+ \\leftrightharpoons H^+ + NH_3\n",
    "$$"
   ]
  },
  {
   "cell_type": "code",
   "execution_count": null,
   "metadata": {
    "collapsed": true
   },
   "outputs": [],
   "source": [
    "names = 'H+ OH- NH4+ NH3 H2O'.split()\n",
    "NH3_idx = 3\n",
    "NH3_varied = np.logspace(-7, 0)\n",
    "c0 = 1e-7, 1e-7, 1e-7, 1, 55\n",
    "K = Kw, Ka = 10**-14/55, 10**-9.24"
   ]
  },
  {
   "cell_type": "code",
   "execution_count": null,
   "metadata": {
    "collapsed": false
   },
   "outputs": [],
   "source": [
    "stoichs = [[1, 1, 0, 0, -1], [1, 0, -1, 1, 0]]\n",
    "H = [1, 1, 4, 3, 2]\n",
    "N = [0, 0, 1, 1, 0]\n",
    "O = [0, 1, 0, 0, 1]\n",
    "e = [1, -1, 1, 0, 0]\n",
    "preserv = [H, N, O, e]\n",
    "def get_f(x, params):\n",
    "    init_concs = params[:5]\n",
    "    eq_constants = params[5:]\n",
    "    le = linear_exprs(preserv, x, linear_exprs(preserv, init_concs), rref=True)\n",
    "    return le + [\n",
    "        prod(xi**p for xi, p in zip(x, coeffs)) - K for coeffs, K in zip(stoichs, eq_constants)\n",
    "    ]"
   ]
  },
  {
   "cell_type": "code",
   "execution_count": null,
   "metadata": {
    "collapsed": false
   },
   "outputs": [],
   "source": [
    "neqsys = SymbolicSys.from_callback(get_f, 5, 7, names=names)\n",
    "neqsys.exprs"
   ]
  },
  {
   "cell_type": "code",
   "execution_count": null,
   "metadata": {
    "collapsed": false
   },
   "outputs": [],
   "source": [
    "neqsys.get_jac()"
   ]
  },
  {
   "cell_type": "code",
   "execution_count": null,
   "metadata": {
    "collapsed": false,
    "scrolled": true
   },
   "outputs": [],
   "source": [
    "%matplotlib inline\n",
    "def solve_and_plot(nsys):\n",
    "    fig = plt.figure(figsize=(16,6))\n",
    "    ax_out = plt.subplot(1, 2, 1, xscale='log', yscale='log')\n",
    "    ax_err = plt.subplot(1, 2, 2, xscale='log')\n",
    "    ax_err.set_yscale('symlog', linthreshy=1e-14)\n",
    "    xres, sols = nsys.solve_and_plot_series('scipy', c0, c0+K, NH3_varied, NH3_idx, ax_out, ax_err)\n",
    "    for ax in (ax_out, ax_err):\n",
    "        ax.set_xlabel('[NH3]0 / M')\n",
    "    ax_out.set_ylabel('Concentration / M')\n",
    "    ax_out.legend(loc='best')\n",
    "    ax_err.set_ylabel('Residuals')\n",
    "    \n",
    "    avg_nfev = np.average([sol.nfev for sol in sols])\n",
    "    avg_njev = np.average([sol.njev for sol in sols])\n",
    "    success = np.average([int(sol.success) for sol in sols])\n",
    "    return {'avg_nfev': avg_nfev, 'avg_njev': avg_njev, 'success': success}\n",
    "\n",
    "    \n",
    "solve_and_plot(neqsys)"
   ]
  },
  {
   "cell_type": "markdown",
   "metadata": {},
   "source": [
    "Now let's see how pyneqsys can transform our system:"
   ]
  },
  {
   "cell_type": "code",
   "execution_count": null,
   "metadata": {
    "collapsed": true
   },
   "outputs": [],
   "source": [
    "def my_log_transform(expr):\n",
    "    if isinstance(expr, sp.Eq):\n",
    "        return sp.expand_log(sp.log(expr.lhs), force=True) - sp.expand_log(sp.log(expr.rhs), force=True)\n",
    "    else:\n",
    "        return expr"
   ]
  },
  {
   "cell_type": "code",
   "execution_count": null,
   "metadata": {
    "collapsed": false
   },
   "outputs": [],
   "source": [
    "tneqsys = TransformedSys.from_callback(get_f, 5, 7, my_log_transform, (sp.exp, sp.log))\n",
    "tneqsys.exprs"
   ]
  },
  {
   "cell_type": "code",
   "execution_count": null,
   "metadata": {
    "collapsed": false,
    "scrolled": true
   },
   "outputs": [],
   "source": [
    "c_res, sol = tneqsys.solve_scipy(c0, np.array(c0+K))\n",
    "c0, c_res, sol.success"
   ]
  },
  {
   "cell_type": "code",
   "execution_count": null,
   "metadata": {
    "collapsed": false
   },
   "outputs": [],
   "source": [
    "solve_and_plot(tneqsys)"
   ]
  }
 ],
 "metadata": {
  "kernelspec": {
   "display_name": "Python 2",
   "language": "python",
   "name": "python2"
  },
  "language_info": {
   "codemirror_mode": {
    "name": "ipython",
    "version": 2
   },
   "file_extension": ".py",
   "mimetype": "text/x-python",
   "name": "python",
   "nbconvert_exporter": "python",
   "pygments_lexer": "ipython2",
   "version": "2.7.6"
  }
 },
 "nbformat": 4,
 "nbformat_minor": 0
}
